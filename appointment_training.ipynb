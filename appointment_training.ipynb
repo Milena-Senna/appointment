{
 "cells": [
  {
   "cell_type": "markdown",
   "metadata": {},
   "source": [
    "# Importo librerie"
   ]
  },
  {
   "cell_type": "code",
   "execution_count": 1,
   "metadata": {},
   "outputs": [],
   "source": [
    "import pandas as pd\n",
    "import numpy as np\n",
    "from sklearn.pipeline import Pipeline\n",
    "from sklearn.impute import SimpleImputer\n",
    "from sklearn.preprocessing import OneHotEncoder\n",
    "from sklearn.compose import ColumnTransformer\n",
    "from sklearn.feature_selection import SelectFromModel\n",
    "from sklearn.linear_model import LogisticRegression\n",
    "from sklearn.metrics import accuracy_score"
   ]
  },
  {
   "cell_type": "markdown",
   "metadata": {},
   "source": [
    "# caricamento csv e visualizzazione dei dati"
   ]
  },
  {
   "cell_type": "code",
   "execution_count": 2,
   "metadata": {},
   "outputs": [],
   "source": [
    "test = pd.read_csv('../Desktop/test.csv')"
   ]
  },
  {
   "cell_type": "code",
   "execution_count": 3,
   "metadata": {},
   "outputs": [],
   "source": [
    "train= pd.read_csv('../Desktop/train.csv')"
   ]
  },
  {
   "cell_type": "code",
   "execution_count": 4,
   "metadata": {
    "scrolled": true
   },
   "outputs": [
    {
     "data": {
      "text/html": [
       "<div>\n",
       "<style scoped>\n",
       "    .dataframe tbody tr th:only-of-type {\n",
       "        vertical-align: middle;\n",
       "    }\n",
       "\n",
       "    .dataframe tbody tr th {\n",
       "        vertical-align: top;\n",
       "    }\n",
       "\n",
       "    .dataframe thead th {\n",
       "        text-align: right;\n",
       "    }\n",
       "</style>\n",
       "<table border=\"1\" class=\"dataframe\">\n",
       "  <thead>\n",
       "    <tr style=\"text-align: right;\">\n",
       "      <th></th>\n",
       "      <th>PatientId</th>\n",
       "      <th>AppointmentID</th>\n",
       "      <th>Gender</th>\n",
       "      <th>ScheduledDay</th>\n",
       "      <th>AppointmentDay</th>\n",
       "      <th>Age</th>\n",
       "      <th>Neighbourhood</th>\n",
       "      <th>Scholarship</th>\n",
       "      <th>Hipertension</th>\n",
       "      <th>Diabetes</th>\n",
       "      <th>Alcoholism</th>\n",
       "      <th>Handcap</th>\n",
       "      <th>SMS_received</th>\n",
       "      <th>No-show</th>\n",
       "    </tr>\n",
       "  </thead>\n",
       "  <tbody>\n",
       "    <tr>\n",
       "      <th>0</th>\n",
       "      <td>1.167239e+11</td>\n",
       "      <td>5778236</td>\n",
       "      <td>M</td>\n",
       "      <td>2016-06-06T15:14:21Z</td>\n",
       "      <td>2016-06-08T00:00:00Z</td>\n",
       "      <td>9</td>\n",
       "      <td>INHANGUETÁ</td>\n",
       "      <td>0</td>\n",
       "      <td>0</td>\n",
       "      <td>0</td>\n",
       "      <td>0</td>\n",
       "      <td>0</td>\n",
       "      <td>0</td>\n",
       "      <td>No</td>\n",
       "    </tr>\n",
       "    <tr>\n",
       "      <th>1</th>\n",
       "      <td>2.375498e+13</td>\n",
       "      <td>5739813</td>\n",
       "      <td>M</td>\n",
       "      <td>2016-05-25T14:10:29Z</td>\n",
       "      <td>2016-05-30T00:00:00Z</td>\n",
       "      <td>50</td>\n",
       "      <td>ANDORINHAS</td>\n",
       "      <td>0</td>\n",
       "      <td>0</td>\n",
       "      <td>1</td>\n",
       "      <td>0</td>\n",
       "      <td>0</td>\n",
       "      <td>1</td>\n",
       "      <td>No</td>\n",
       "    </tr>\n",
       "    <tr>\n",
       "      <th>2</th>\n",
       "      <td>9.435712e+10</td>\n",
       "      <td>5683899</td>\n",
       "      <td>F</td>\n",
       "      <td>2016-05-11T08:00:20Z</td>\n",
       "      <td>2016-05-11T00:00:00Z</td>\n",
       "      <td>69</td>\n",
       "      <td>JARDIM CAMBURI</td>\n",
       "      <td>0</td>\n",
       "      <td>0</td>\n",
       "      <td>0</td>\n",
       "      <td>0</td>\n",
       "      <td>0</td>\n",
       "      <td>0</td>\n",
       "      <td>No</td>\n",
       "    </tr>\n",
       "    <tr>\n",
       "      <th>3</th>\n",
       "      <td>8.277442e+13</td>\n",
       "      <td>5688382</td>\n",
       "      <td>F</td>\n",
       "      <td>2016-05-12T07:19:39Z</td>\n",
       "      <td>2016-05-16T00:00:00Z</td>\n",
       "      <td>22</td>\n",
       "      <td>FORTE SÃO JOÃO</td>\n",
       "      <td>0</td>\n",
       "      <td>0</td>\n",
       "      <td>0</td>\n",
       "      <td>0</td>\n",
       "      <td>0</td>\n",
       "      <td>0</td>\n",
       "      <td>No</td>\n",
       "    </tr>\n",
       "    <tr>\n",
       "      <th>4</th>\n",
       "      <td>1.812426e+14</td>\n",
       "      <td>5707554</td>\n",
       "      <td>F</td>\n",
       "      <td>2016-05-17T09:47:04Z</td>\n",
       "      <td>2016-05-17T00:00:00Z</td>\n",
       "      <td>1</td>\n",
       "      <td>REDENÇÃO</td>\n",
       "      <td>0</td>\n",
       "      <td>0</td>\n",
       "      <td>0</td>\n",
       "      <td>0</td>\n",
       "      <td>0</td>\n",
       "      <td>0</td>\n",
       "      <td>No</td>\n",
       "    </tr>\n",
       "    <tr>\n",
       "      <th>...</th>\n",
       "      <td>...</td>\n",
       "      <td>...</td>\n",
       "      <td>...</td>\n",
       "      <td>...</td>\n",
       "      <td>...</td>\n",
       "      <td>...</td>\n",
       "      <td>...</td>\n",
       "      <td>...</td>\n",
       "      <td>...</td>\n",
       "      <td>...</td>\n",
       "      <td>...</td>\n",
       "      <td>...</td>\n",
       "      <td>...</td>\n",
       "      <td>...</td>\n",
       "    </tr>\n",
       "    <tr>\n",
       "      <th>22101</th>\n",
       "      <td>5.536134e+14</td>\n",
       "      <td>5645162</td>\n",
       "      <td>F</td>\n",
       "      <td>2016-05-02T09:33:04Z</td>\n",
       "      <td>2016-05-18T00:00:00Z</td>\n",
       "      <td>9</td>\n",
       "      <td>DO MOSCOSO</td>\n",
       "      <td>0</td>\n",
       "      <td>0</td>\n",
       "      <td>0</td>\n",
       "      <td>0</td>\n",
       "      <td>0</td>\n",
       "      <td>0</td>\n",
       "      <td>No</td>\n",
       "    </tr>\n",
       "    <tr>\n",
       "      <th>22102</th>\n",
       "      <td>8.873752e+14</td>\n",
       "      <td>5697393</td>\n",
       "      <td>F</td>\n",
       "      <td>2016-05-13T15:43:41Z</td>\n",
       "      <td>2016-05-20T00:00:00Z</td>\n",
       "      <td>6</td>\n",
       "      <td>CRUZAMENTO</td>\n",
       "      <td>0</td>\n",
       "      <td>0</td>\n",
       "      <td>0</td>\n",
       "      <td>0</td>\n",
       "      <td>0</td>\n",
       "      <td>0</td>\n",
       "      <td>No</td>\n",
       "    </tr>\n",
       "    <tr>\n",
       "      <th>22103</th>\n",
       "      <td>2.948428e+14</td>\n",
       "      <td>5622058</td>\n",
       "      <td>F</td>\n",
       "      <td>2016-04-26T11:16:09Z</td>\n",
       "      <td>2016-05-04T00:00:00Z</td>\n",
       "      <td>50</td>\n",
       "      <td>JARDIM CAMBURI</td>\n",
       "      <td>0</td>\n",
       "      <td>0</td>\n",
       "      <td>0</td>\n",
       "      <td>0</td>\n",
       "      <td>0</td>\n",
       "      <td>1</td>\n",
       "      <td>No</td>\n",
       "    </tr>\n",
       "    <tr>\n",
       "      <th>22104</th>\n",
       "      <td>8.622669e+13</td>\n",
       "      <td>5717386</td>\n",
       "      <td>M</td>\n",
       "      <td>2016-05-19T07:54:32Z</td>\n",
       "      <td>2016-05-19T00:00:00Z</td>\n",
       "      <td>15</td>\n",
       "      <td>JARDIM CAMBURI</td>\n",
       "      <td>0</td>\n",
       "      <td>0</td>\n",
       "      <td>0</td>\n",
       "      <td>0</td>\n",
       "      <td>0</td>\n",
       "      <td>0</td>\n",
       "      <td>No</td>\n",
       "    </tr>\n",
       "    <tr>\n",
       "      <th>22105</th>\n",
       "      <td>1.246589e+13</td>\n",
       "      <td>5723664</td>\n",
       "      <td>M</td>\n",
       "      <td>2016-05-20T08:29:12Z</td>\n",
       "      <td>2016-05-20T00:00:00Z</td>\n",
       "      <td>58</td>\n",
       "      <td>ITARARÉ</td>\n",
       "      <td>0</td>\n",
       "      <td>0</td>\n",
       "      <td>0</td>\n",
       "      <td>1</td>\n",
       "      <td>0</td>\n",
       "      <td>0</td>\n",
       "      <td>No</td>\n",
       "    </tr>\n",
       "  </tbody>\n",
       "</table>\n",
       "<p>22106 rows × 14 columns</p>\n",
       "</div>"
      ],
      "text/plain": [
       "          PatientId  AppointmentID Gender          ScheduledDay  \\\n",
       "0      1.167239e+11        5778236      M  2016-06-06T15:14:21Z   \n",
       "1      2.375498e+13        5739813      M  2016-05-25T14:10:29Z   \n",
       "2      9.435712e+10        5683899      F  2016-05-11T08:00:20Z   \n",
       "3      8.277442e+13        5688382      F  2016-05-12T07:19:39Z   \n",
       "4      1.812426e+14        5707554      F  2016-05-17T09:47:04Z   \n",
       "...             ...            ...    ...                   ...   \n",
       "22101  5.536134e+14        5645162      F  2016-05-02T09:33:04Z   \n",
       "22102  8.873752e+14        5697393      F  2016-05-13T15:43:41Z   \n",
       "22103  2.948428e+14        5622058      F  2016-04-26T11:16:09Z   \n",
       "22104  8.622669e+13        5717386      M  2016-05-19T07:54:32Z   \n",
       "22105  1.246589e+13        5723664      M  2016-05-20T08:29:12Z   \n",
       "\n",
       "             AppointmentDay  Age   Neighbourhood  Scholarship  Hipertension  \\\n",
       "0      2016-06-08T00:00:00Z    9      INHANGUETÁ            0             0   \n",
       "1      2016-05-30T00:00:00Z   50      ANDORINHAS            0             0   \n",
       "2      2016-05-11T00:00:00Z   69  JARDIM CAMBURI            0             0   \n",
       "3      2016-05-16T00:00:00Z   22  FORTE SÃO JOÃO            0             0   \n",
       "4      2016-05-17T00:00:00Z    1        REDENÇÃO            0             0   \n",
       "...                     ...  ...             ...          ...           ...   \n",
       "22101  2016-05-18T00:00:00Z    9      DO MOSCOSO            0             0   \n",
       "22102  2016-05-20T00:00:00Z    6      CRUZAMENTO            0             0   \n",
       "22103  2016-05-04T00:00:00Z   50  JARDIM CAMBURI            0             0   \n",
       "22104  2016-05-19T00:00:00Z   15  JARDIM CAMBURI            0             0   \n",
       "22105  2016-05-20T00:00:00Z   58         ITARARÉ            0             0   \n",
       "\n",
       "       Diabetes  Alcoholism  Handcap  SMS_received No-show  \n",
       "0             0           0        0             0      No  \n",
       "1             1           0        0             1      No  \n",
       "2             0           0        0             0      No  \n",
       "3             0           0        0             0      No  \n",
       "4             0           0        0             0      No  \n",
       "...         ...         ...      ...           ...     ...  \n",
       "22101         0           0        0             0      No  \n",
       "22102         0           0        0             0      No  \n",
       "22103         0           0        0             1      No  \n",
       "22104         0           0        0             0      No  \n",
       "22105         0           1        0             0      No  \n",
       "\n",
       "[22106 rows x 14 columns]"
      ]
     },
     "execution_count": 4,
     "metadata": {},
     "output_type": "execute_result"
    }
   ],
   "source": [
    "test"
   ]
  },
  {
   "cell_type": "code",
   "execution_count": 5,
   "metadata": {},
   "outputs": [
    {
     "data": {
      "text/html": [
       "<div>\n",
       "<style scoped>\n",
       "    .dataframe tbody tr th:only-of-type {\n",
       "        vertical-align: middle;\n",
       "    }\n",
       "\n",
       "    .dataframe tbody tr th {\n",
       "        vertical-align: top;\n",
       "    }\n",
       "\n",
       "    .dataframe thead th {\n",
       "        text-align: right;\n",
       "    }\n",
       "</style>\n",
       "<table border=\"1\" class=\"dataframe\">\n",
       "  <thead>\n",
       "    <tr style=\"text-align: right;\">\n",
       "      <th></th>\n",
       "      <th>PatientId</th>\n",
       "      <th>AppointmentID</th>\n",
       "      <th>Gender</th>\n",
       "      <th>ScheduledDay</th>\n",
       "      <th>AppointmentDay</th>\n",
       "      <th>Age</th>\n",
       "      <th>Neighbourhood</th>\n",
       "      <th>Scholarship</th>\n",
       "      <th>Hipertension</th>\n",
       "      <th>Diabetes</th>\n",
       "      <th>Alcoholism</th>\n",
       "      <th>Handcap</th>\n",
       "      <th>SMS_received</th>\n",
       "      <th>No-show</th>\n",
       "    </tr>\n",
       "  </thead>\n",
       "  <tbody>\n",
       "    <tr>\n",
       "      <th>0</th>\n",
       "      <td>2.247937e+12</td>\n",
       "      <td>5587761</td>\n",
       "      <td>F</td>\n",
       "      <td>2016-04-15T09:03:51Z</td>\n",
       "      <td>2016-05-18T00:00:00Z</td>\n",
       "      <td>29</td>\n",
       "      <td>SANTA MARTHA</td>\n",
       "      <td>0</td>\n",
       "      <td>0</td>\n",
       "      <td>0</td>\n",
       "      <td>0</td>\n",
       "      <td>0</td>\n",
       "      <td>0</td>\n",
       "      <td>Yes</td>\n",
       "    </tr>\n",
       "    <tr>\n",
       "      <th>1</th>\n",
       "      <td>7.894582e+11</td>\n",
       "      <td>5774796</td>\n",
       "      <td>F</td>\n",
       "      <td>2016-06-06T08:41:45Z</td>\n",
       "      <td>2016-06-06T00:00:00Z</td>\n",
       "      <td>5</td>\n",
       "      <td>JOANA D´ARC</td>\n",
       "      <td>0</td>\n",
       "      <td>0</td>\n",
       "      <td>0</td>\n",
       "      <td>0</td>\n",
       "      <td>0</td>\n",
       "      <td>0</td>\n",
       "      <td>No</td>\n",
       "    </tr>\n",
       "    <tr>\n",
       "      <th>2</th>\n",
       "      <td>3.967220e+14</td>\n",
       "      <td>5605217</td>\n",
       "      <td>M</td>\n",
       "      <td>2016-04-20T08:44:47Z</td>\n",
       "      <td>2016-05-10T00:00:00Z</td>\n",
       "      <td>64</td>\n",
       "      <td>JARDIM DA PENHA</td>\n",
       "      <td>0</td>\n",
       "      <td>0</td>\n",
       "      <td>0</td>\n",
       "      <td>0</td>\n",
       "      <td>0</td>\n",
       "      <td>1</td>\n",
       "      <td>No</td>\n",
       "    </tr>\n",
       "    <tr>\n",
       "      <th>3</th>\n",
       "      <td>6.663786e+14</td>\n",
       "      <td>5720245</td>\n",
       "      <td>F</td>\n",
       "      <td>2016-05-19T13:31:38Z</td>\n",
       "      <td>2016-05-19T00:00:00Z</td>\n",
       "      <td>66</td>\n",
       "      <td>PRAIA DO CANTO</td>\n",
       "      <td>0</td>\n",
       "      <td>1</td>\n",
       "      <td>0</td>\n",
       "      <td>0</td>\n",
       "      <td>0</td>\n",
       "      <td>0</td>\n",
       "      <td>No</td>\n",
       "    </tr>\n",
       "    <tr>\n",
       "      <th>4</th>\n",
       "      <td>1.835776e+12</td>\n",
       "      <td>5742007</td>\n",
       "      <td>M</td>\n",
       "      <td>2016-05-30T07:38:58Z</td>\n",
       "      <td>2016-05-30T00:00:00Z</td>\n",
       "      <td>72</td>\n",
       "      <td>RESISTÊNCIA</td>\n",
       "      <td>0</td>\n",
       "      <td>0</td>\n",
       "      <td>0</td>\n",
       "      <td>0</td>\n",
       "      <td>0</td>\n",
       "      <td>0</td>\n",
       "      <td>No</td>\n",
       "    </tr>\n",
       "    <tr>\n",
       "      <th>...</th>\n",
       "      <td>...</td>\n",
       "      <td>...</td>\n",
       "      <td>...</td>\n",
       "      <td>...</td>\n",
       "      <td>...</td>\n",
       "      <td>...</td>\n",
       "      <td>...</td>\n",
       "      <td>...</td>\n",
       "      <td>...</td>\n",
       "      <td>...</td>\n",
       "      <td>...</td>\n",
       "      <td>...</td>\n",
       "      <td>...</td>\n",
       "      <td>...</td>\n",
       "    </tr>\n",
       "    <tr>\n",
       "      <th>66310</th>\n",
       "      <td>7.868846e+12</td>\n",
       "      <td>5721432</td>\n",
       "      <td>F</td>\n",
       "      <td>2016-05-19T16:26:59Z</td>\n",
       "      <td>2016-06-02T00:00:00Z</td>\n",
       "      <td>11</td>\n",
       "      <td>SANTOS DUMONT</td>\n",
       "      <td>0</td>\n",
       "      <td>0</td>\n",
       "      <td>0</td>\n",
       "      <td>0</td>\n",
       "      <td>0</td>\n",
       "      <td>1</td>\n",
       "      <td>No</td>\n",
       "    </tr>\n",
       "    <tr>\n",
       "      <th>66311</th>\n",
       "      <td>7.711876e+13</td>\n",
       "      <td>5607080</td>\n",
       "      <td>M</td>\n",
       "      <td>2016-04-20T11:03:44Z</td>\n",
       "      <td>2016-05-11T00:00:00Z</td>\n",
       "      <td>50</td>\n",
       "      <td>TABUAZEIRO</td>\n",
       "      <td>0</td>\n",
       "      <td>1</td>\n",
       "      <td>1</td>\n",
       "      <td>0</td>\n",
       "      <td>0</td>\n",
       "      <td>1</td>\n",
       "      <td>No</td>\n",
       "    </tr>\n",
       "    <tr>\n",
       "      <th>66312</th>\n",
       "      <td>6.293825e+14</td>\n",
       "      <td>5758142</td>\n",
       "      <td>F</td>\n",
       "      <td>2016-06-01T10:19:43Z</td>\n",
       "      <td>2016-06-01T00:00:00Z</td>\n",
       "      <td>42</td>\n",
       "      <td>ANDORINHAS</td>\n",
       "      <td>0</td>\n",
       "      <td>0</td>\n",
       "      <td>0</td>\n",
       "      <td>0</td>\n",
       "      <td>0</td>\n",
       "      <td>0</td>\n",
       "      <td>No</td>\n",
       "    </tr>\n",
       "    <tr>\n",
       "      <th>66313</th>\n",
       "      <td>3.824988e+12</td>\n",
       "      <td>5579699</td>\n",
       "      <td>M</td>\n",
       "      <td>2016-04-13T15:26:38Z</td>\n",
       "      <td>2016-05-05T00:00:00Z</td>\n",
       "      <td>13</td>\n",
       "      <td>BELA VISTA</td>\n",
       "      <td>0</td>\n",
       "      <td>0</td>\n",
       "      <td>0</td>\n",
       "      <td>0</td>\n",
       "      <td>0</td>\n",
       "      <td>1</td>\n",
       "      <td>Yes</td>\n",
       "    </tr>\n",
       "    <tr>\n",
       "      <th>66314</th>\n",
       "      <td>5.899838e+12</td>\n",
       "      <td>5693376</td>\n",
       "      <td>M</td>\n",
       "      <td>2016-05-13T07:10:57Z</td>\n",
       "      <td>2016-05-13T00:00:00Z</td>\n",
       "      <td>12</td>\n",
       "      <td>JESUS DE NAZARETH</td>\n",
       "      <td>0</td>\n",
       "      <td>0</td>\n",
       "      <td>0</td>\n",
       "      <td>0</td>\n",
       "      <td>0</td>\n",
       "      <td>0</td>\n",
       "      <td>No</td>\n",
       "    </tr>\n",
       "  </tbody>\n",
       "</table>\n",
       "<p>66315 rows × 14 columns</p>\n",
       "</div>"
      ],
      "text/plain": [
       "          PatientId  AppointmentID Gender          ScheduledDay  \\\n",
       "0      2.247937e+12        5587761      F  2016-04-15T09:03:51Z   \n",
       "1      7.894582e+11        5774796      F  2016-06-06T08:41:45Z   \n",
       "2      3.967220e+14        5605217      M  2016-04-20T08:44:47Z   \n",
       "3      6.663786e+14        5720245      F  2016-05-19T13:31:38Z   \n",
       "4      1.835776e+12        5742007      M  2016-05-30T07:38:58Z   \n",
       "...             ...            ...    ...                   ...   \n",
       "66310  7.868846e+12        5721432      F  2016-05-19T16:26:59Z   \n",
       "66311  7.711876e+13        5607080      M  2016-04-20T11:03:44Z   \n",
       "66312  6.293825e+14        5758142      F  2016-06-01T10:19:43Z   \n",
       "66313  3.824988e+12        5579699      M  2016-04-13T15:26:38Z   \n",
       "66314  5.899838e+12        5693376      M  2016-05-13T07:10:57Z   \n",
       "\n",
       "             AppointmentDay  Age      Neighbourhood  Scholarship  \\\n",
       "0      2016-05-18T00:00:00Z   29       SANTA MARTHA            0   \n",
       "1      2016-06-06T00:00:00Z    5        JOANA D´ARC            0   \n",
       "2      2016-05-10T00:00:00Z   64    JARDIM DA PENHA            0   \n",
       "3      2016-05-19T00:00:00Z   66     PRAIA DO CANTO            0   \n",
       "4      2016-05-30T00:00:00Z   72        RESISTÊNCIA            0   \n",
       "...                     ...  ...                ...          ...   \n",
       "66310  2016-06-02T00:00:00Z   11      SANTOS DUMONT            0   \n",
       "66311  2016-05-11T00:00:00Z   50         TABUAZEIRO            0   \n",
       "66312  2016-06-01T00:00:00Z   42         ANDORINHAS            0   \n",
       "66313  2016-05-05T00:00:00Z   13         BELA VISTA            0   \n",
       "66314  2016-05-13T00:00:00Z   12  JESUS DE NAZARETH            0   \n",
       "\n",
       "       Hipertension  Diabetes  Alcoholism  Handcap  SMS_received No-show  \n",
       "0                 0         0           0        0             0     Yes  \n",
       "1                 0         0           0        0             0      No  \n",
       "2                 0         0           0        0             1      No  \n",
       "3                 1         0           0        0             0      No  \n",
       "4                 0         0           0        0             0      No  \n",
       "...             ...       ...         ...      ...           ...     ...  \n",
       "66310             0         0           0        0             1      No  \n",
       "66311             1         1           0        0             1      No  \n",
       "66312             0         0           0        0             0      No  \n",
       "66313             0         0           0        0             1     Yes  \n",
       "66314             0         0           0        0             0      No  \n",
       "\n",
       "[66315 rows x 14 columns]"
      ]
     },
     "execution_count": 5,
     "metadata": {},
     "output_type": "execute_result"
    }
   ],
   "source": [
    "train"
   ]
  },
  {
   "cell_type": "code",
   "execution_count": 6,
   "metadata": {},
   "outputs": [
    {
     "data": {
      "text/plain": [
       "PatientId         float64\n",
       "AppointmentID       int64\n",
       "Gender             object\n",
       "ScheduledDay       object\n",
       "AppointmentDay     object\n",
       "Age                 int64\n",
       "Neighbourhood      object\n",
       "Scholarship         int64\n",
       "Hipertension        int64\n",
       "Diabetes            int64\n",
       "Alcoholism          int64\n",
       "Handcap             int64\n",
       "SMS_received        int64\n",
       "No-show            object\n",
       "dtype: object"
      ]
     },
     "execution_count": 6,
     "metadata": {},
     "output_type": "execute_result"
    }
   ],
   "source": [
    "test.dtypes"
   ]
  },
  {
   "cell_type": "code",
   "execution_count": 7,
   "metadata": {},
   "outputs": [
    {
     "data": {
      "text/plain": [
       "PatientId         float64\n",
       "AppointmentID       int64\n",
       "Gender             object\n",
       "ScheduledDay       object\n",
       "AppointmentDay     object\n",
       "Age                 int64\n",
       "Neighbourhood      object\n",
       "Scholarship         int64\n",
       "Hipertension        int64\n",
       "Diabetes            int64\n",
       "Alcoholism          int64\n",
       "Handcap             int64\n",
       "SMS_received        int64\n",
       "No-show            object\n",
       "dtype: object"
      ]
     },
     "execution_count": 7,
     "metadata": {},
     "output_type": "execute_result"
    }
   ],
   "source": [
    "train.dtypes"
   ]
  },
  {
   "cell_type": "code",
   "execution_count": 8,
   "metadata": {},
   "outputs": [
    {
     "data": {
      "text/plain": [
       "0        2016-05-18T00:00:00Z\n",
       "1        2016-06-06T00:00:00Z\n",
       "2        2016-05-10T00:00:00Z\n",
       "3        2016-05-19T00:00:00Z\n",
       "4        2016-05-30T00:00:00Z\n",
       "                 ...         \n",
       "66310    2016-06-02T00:00:00Z\n",
       "66311    2016-05-11T00:00:00Z\n",
       "66312    2016-06-01T00:00:00Z\n",
       "66313    2016-05-05T00:00:00Z\n",
       "66314    2016-05-13T00:00:00Z\n",
       "Name: AppointmentDay, Length: 66315, dtype: object"
      ]
     },
     "execution_count": 8,
     "metadata": {},
     "output_type": "execute_result"
    }
   ],
   "source": [
    "train.AppointmentDay"
   ]
  },
  {
   "cell_type": "code",
   "execution_count": 9,
   "metadata": {},
   "outputs": [
    {
     "data": {
      "text/plain": [
       "0        2016-04-15T09:03:51Z\n",
       "1        2016-06-06T08:41:45Z\n",
       "2        2016-04-20T08:44:47Z\n",
       "3        2016-05-19T13:31:38Z\n",
       "4        2016-05-30T07:38:58Z\n",
       "                 ...         \n",
       "66310    2016-05-19T16:26:59Z\n",
       "66311    2016-04-20T11:03:44Z\n",
       "66312    2016-06-01T10:19:43Z\n",
       "66313    2016-04-13T15:26:38Z\n",
       "66314    2016-05-13T07:10:57Z\n",
       "Name: ScheduledDay, Length: 66315, dtype: object"
      ]
     },
     "execution_count": 9,
     "metadata": {},
     "output_type": "execute_result"
    }
   ],
   "source": [
    "train.ScheduledDay"
   ]
  },
  {
   "cell_type": "markdown",
   "metadata": {},
   "source": [
    "# Sistemazione colonne con date "
   ]
  },
  {
   "cell_type": "raw",
   "metadata": {},
   "source": [
    "Le date nelle colonne AppointmentDay e ScheduledDay sono scritte in forma ISO 8601. Dunque uso queste funzioni per cambiare il tipo in datetime prestando attenzione anche al fuso orario, 'UTC'."
   ]
  },
  {
   "cell_type": "code",
   "execution_count": 10,
   "metadata": {},
   "outputs": [],
   "source": [
    "#per i dati nella colonna AppointmentDay, accedo solo alla data in quanto l'ora non è presente.\n",
    "\n",
    "train['AppointmentDay'] = pd.to_datetime(train['AppointmentDay']).dt.date.astype('datetime64[ns]')\n",
    "test['AppointmentDay'] = pd.to_datetime(test['AppointmentDay']).dt.date.astype('datetime64[ns]')"
   ]
  },
  {
   "cell_type": "code",
   "execution_count": 11,
   "metadata": {},
   "outputs": [],
   "source": [
    "#per i dati nella colonna ScheduledDay, accedo sia alla data che all'ora in quanto quest'ultima è presente.\n",
    "\n",
    "train['ScheduledDay']=pd.to_datetime(train['ScheduledDay'])\n",
    "test['ScheduledDay']=pd.to_datetime(test['ScheduledDay'])"
   ]
  },
  {
   "cell_type": "code",
   "execution_count": 12,
   "metadata": {},
   "outputs": [
    {
     "data": {
      "text/plain": [
       "0       2016-05-18\n",
       "1       2016-06-06\n",
       "2       2016-05-10\n",
       "3       2016-05-19\n",
       "4       2016-05-30\n",
       "           ...    \n",
       "66310   2016-06-02\n",
       "66311   2016-05-11\n",
       "66312   2016-06-01\n",
       "66313   2016-05-05\n",
       "66314   2016-05-13\n",
       "Name: AppointmentDay, Length: 66315, dtype: datetime64[ns]"
      ]
     },
     "execution_count": 12,
     "metadata": {},
     "output_type": "execute_result"
    }
   ],
   "source": [
    "train ['AppointmentDay']"
   ]
  },
  {
   "cell_type": "code",
   "execution_count": 13,
   "metadata": {},
   "outputs": [
    {
     "data": {
      "text/plain": [
       "0       2016-04-15 09:03:51+00:00\n",
       "1       2016-06-06 08:41:45+00:00\n",
       "2       2016-04-20 08:44:47+00:00\n",
       "3       2016-05-19 13:31:38+00:00\n",
       "4       2016-05-30 07:38:58+00:00\n",
       "                   ...           \n",
       "66310   2016-05-19 16:26:59+00:00\n",
       "66311   2016-04-20 11:03:44+00:00\n",
       "66312   2016-06-01 10:19:43+00:00\n",
       "66313   2016-04-13 15:26:38+00:00\n",
       "66314   2016-05-13 07:10:57+00:00\n",
       "Name: ScheduledDay, Length: 66315, dtype: datetime64[ns, UTC]"
      ]
     },
     "execution_count": 13,
     "metadata": {},
     "output_type": "execute_result"
    }
   ],
   "source": [
    "train['ScheduledDay']"
   ]
  },
  {
   "cell_type": "code",
   "execution_count": 14,
   "metadata": {},
   "outputs": [],
   "source": [
    "#tolgo il fuso orario risultante nell'ora locale per i dati della colonna ScheduledDay\n",
    "\n",
    "test['ScheduledDay']= test['ScheduledDay'].dt.tz_convert(None)\n",
    "train['ScheduledDay']= train['ScheduledDay'].dt.tz_convert(None)"
   ]
  },
  {
   "cell_type": "code",
   "execution_count": 15,
   "metadata": {},
   "outputs": [
    {
     "data": {
      "text/plain": [
       "0       2016-04-15 09:03:51\n",
       "1       2016-06-06 08:41:45\n",
       "2       2016-04-20 08:44:47\n",
       "3       2016-05-19 13:31:38\n",
       "4       2016-05-30 07:38:58\n",
       "                ...        \n",
       "66310   2016-05-19 16:26:59\n",
       "66311   2016-04-20 11:03:44\n",
       "66312   2016-06-01 10:19:43\n",
       "66313   2016-04-13 15:26:38\n",
       "66314   2016-05-13 07:10:57\n",
       "Name: ScheduledDay, Length: 66315, dtype: datetime64[ns]"
      ]
     },
     "execution_count": 15,
     "metadata": {},
     "output_type": "execute_result"
    }
   ],
   "source": [
    "train['ScheduledDay']"
   ]
  },
  {
   "cell_type": "code",
   "execution_count": 16,
   "metadata": {
    "scrolled": true
   },
   "outputs": [
    {
     "data": {
      "text/plain": [
       "PatientId                float64\n",
       "AppointmentID              int64\n",
       "Gender                    object\n",
       "ScheduledDay      datetime64[ns]\n",
       "AppointmentDay    datetime64[ns]\n",
       "Age                        int64\n",
       "Neighbourhood             object\n",
       "Scholarship                int64\n",
       "Hipertension               int64\n",
       "Diabetes                   int64\n",
       "Alcoholism                 int64\n",
       "Handcap                    int64\n",
       "SMS_received               int64\n",
       "No-show                   object\n",
       "dtype: object"
      ]
     },
     "execution_count": 16,
     "metadata": {},
     "output_type": "execute_result"
    }
   ],
   "source": [
    "train.dtypes"
   ]
  },
  {
   "cell_type": "code",
   "execution_count": 17,
   "metadata": {},
   "outputs": [
    {
     "data": {
      "text/plain": [
       "PatientId                float64\n",
       "AppointmentID              int64\n",
       "Gender                    object\n",
       "ScheduledDay      datetime64[ns]\n",
       "AppointmentDay    datetime64[ns]\n",
       "Age                        int64\n",
       "Neighbourhood             object\n",
       "Scholarship                int64\n",
       "Hipertension               int64\n",
       "Diabetes                   int64\n",
       "Alcoholism                 int64\n",
       "Handcap                    int64\n",
       "SMS_received               int64\n",
       "No-show                   object\n",
       "dtype: object"
      ]
     },
     "execution_count": 17,
     "metadata": {},
     "output_type": "execute_result"
    }
   ],
   "source": [
    "test.dtypes"
   ]
  },
  {
   "cell_type": "markdown",
   "metadata": {},
   "source": [
    "# Pipeline"
   ]
  },
  {
   "cell_type": "raw",
   "metadata": {},
   "source": [
    "Come suggerito ho usato una pipeline che consentisse il trattamento dei dati, effettuando a cascate delle operazioni, è un modo semplice per mantenere organizzati i codici di preelaborazione.\n",
    "Queste operazioni si identificano in generale nel preprocessamento dei dati, nella selezione delle features più pertinenti(vedi la funzone usata SelectFromModel) e nel modello richiamato per la predizione."
   ]
  },
  {
   "cell_type": "code",
   "execution_count": 18,
   "metadata": {},
   "outputs": [],
   "source": [
    "# Rimozione delle righe con il target mancante e separazione del target dalle altre features\n",
    "train.dropna(axis=0, subset=['No-show'], inplace=True)\n",
    "y_train = train['No-show']\n",
    "X_train = train.drop(['No-show'], axis=1).copy()\n",
    "\n",
    "test.dropna(axis=0, subset=['No-show'], inplace=True)\n",
    "y_valid = test['No-show']\n",
    "X_valid = test.drop(['No-show'], axis=1).copy()\n",
    "\n",
    "# selezioni colonne di tipo object\n",
    "categorical_cols = [cname for cname in X_train.columns if\n",
    "                   X_train[cname].dtype == \"object\"]\n",
    "\n",
    "# selezioni colonne di tipo int64 e float64\n",
    "numerical_cols = [cname for cname in X_train.columns if \n",
    "                  X_train[cname].dtype in ['int64', 'float64']]\n",
    "\n",
    "# selezioni colonne di tipo dataTime\n",
    "dataTime_cols = [cname for cname in X_train.columns if \n",
    "                X_train[cname].dtype == \"datetime64[ns]\"]\n"
   ]
  },
  {
   "cell_type": "code",
   "execution_count": 19,
   "metadata": {},
   "outputs": [
    {
     "data": {
      "text/plain": [
       "['Gender', 'Neighbourhood']"
      ]
     },
     "execution_count": 19,
     "metadata": {},
     "output_type": "execute_result"
    }
   ],
   "source": [
    "categorical_cols"
   ]
  },
  {
   "cell_type": "code",
   "execution_count": 20,
   "metadata": {},
   "outputs": [
    {
     "data": {
      "text/plain": [
       "['PatientId',\n",
       " 'AppointmentID',\n",
       " 'Age',\n",
       " 'Scholarship',\n",
       " 'Hipertension',\n",
       " 'Diabetes',\n",
       " 'Alcoholism',\n",
       " 'Handcap',\n",
       " 'SMS_received']"
      ]
     },
     "execution_count": 20,
     "metadata": {},
     "output_type": "execute_result"
    }
   ],
   "source": [
    "numerical_cols"
   ]
  },
  {
   "cell_type": "code",
   "execution_count": 21,
   "metadata": {},
   "outputs": [
    {
     "data": {
      "text/plain": [
       "['ScheduledDay', 'AppointmentDay']"
      ]
     },
     "execution_count": 21,
     "metadata": {},
     "output_type": "execute_result"
    }
   ],
   "source": [
    "dataTime_cols"
   ]
  },
  {
   "cell_type": "code",
   "execution_count": 22,
   "metadata": {},
   "outputs": [],
   "source": [
    "#per il preprocessamento dei dati ho scelto di usare: \n",
    "  \n",
    "    #OneHotEncoder, una codifica usata principalmente quando i dati non sono ordinabili. Prende una colonna che ha dati \n",
    "#categorici, la quale è stata codificata con un'etichetta, divide la colonna in più colonne e i valori sono sostituiti a 1 e 0,\n",
    "#a seconda di quale colonna ha qual valore. Ho preferito utilizzare questo approccio in quanto ho usato una pipeline.\n",
    " \n",
    "    #SimpleImputer è un imputatore per i valori mancanti, per le variabili categoriche come suggerito da sklearn è in base \n",
    "#al valore  più frequente, per i numerical e dataTime ho scelto la media dei valori.\n",
    "\n",
    "\n",
    "#preprocessamento dei dati numerici\n",
    "numerical_transformer = Pipeline(steps=[\n",
    "   ('imputer', SimpleImputer(strategy='mean', missing_values=np.nan))\n",
    "])\n",
    "\n",
    "#preprocessamento dei dati categorici\n",
    "categorical_transformer = Pipeline(steps=[\n",
    "    ('imputer', SimpleImputer(strategy='most_frequent', missing_values=np.nan )),\n",
    "    ('onehot', OneHotEncoder(handle_unknown='ignore'))\n",
    "]) \n",
    "\n",
    "#preprocessamento dei dati dataTime\n",
    "dataTime_transformer = Pipeline(steps=[\n",
    "    ('imputer', SimpleImputer(strategy='mean', missing_values=np.nan)),\n",
    "    ('onehot', OneHotEncoder(handle_unknown='ignore'))\n",
    " ]) \n",
    "\n",
    "# Preelaborazione per dati numerici, categorici e dataTime\n",
    "preprocessor = ColumnTransformer(\n",
    "    transformers=[\n",
    "       ('num', numerical_transformer, numerical_cols),\n",
    "       ('cat', categorical_transformer, categorical_cols),\n",
    "       ('data', dataTime_transformer, dataTime_cols)\n",
    "    ])"
   ]
  },
  {
   "cell_type": "code",
   "execution_count": 23,
   "metadata": {},
   "outputs": [],
   "source": [
    "#Definisco modello\n",
    "\n",
    "model = LogisticRegression(max_iter = 1000 )"
   ]
  },
  {
   "cell_type": "code",
   "execution_count": 24,
   "metadata": {
    "scrolled": true
   },
   "outputs": [],
   "source": [
    "#Raggruppare il codice di pre-elaborazione e modellazione in una pipeline\n",
    "\n",
    "#SelectFromModel: individua e si tiene le features la cui importanza è maggiore o uguale e le altre vengono scartate\n",
    "\n",
    "pipeline = Pipeline(steps=[   ('preprocessor', preprocessor),\n",
    "                              ('feature_selection', SelectFromModel(model)),\n",
    "                              ('model', model)\n",
    "                          ])\n",
    "\n",
    "# Allenamento dati di preelaborazione \n",
    "pipeline.fit(X_train, y_train)\n",
    "\n",
    "# Processo di validazione dei dati, predizione\n",
    "preds = pipeline.predict(X_valid)"
   ]
  },
  {
   "cell_type": "markdown",
   "metadata": {},
   "source": [
    "# Calcolo accuracy"
   ]
  },
  {
   "cell_type": "code",
   "execution_count": 25,
   "metadata": {},
   "outputs": [
    {
     "data": {
      "text/plain": [
       "80.19542205735999"
      ]
     },
     "execution_count": 25,
     "metadata": {},
     "output_type": "execute_result"
    }
   ],
   "source": [
    "accuracy=accuracy_score(preds, y_valid)*100\n",
    "accuracy"
   ]
  }
 ],
 "metadata": {
  "kernelspec": {
   "display_name": "Python 3",
   "language": "python",
   "name": "python3"
  },
  "language_info": {
   "codemirror_mode": {
    "name": "ipython",
    "version": 3
   },
   "file_extension": ".py",
   "mimetype": "text/x-python",
   "name": "python",
   "nbconvert_exporter": "python",
   "pygments_lexer": "ipython3",
   "version": "3.7.6"
  }
 },
 "nbformat": 4,
 "nbformat_minor": 4
}
